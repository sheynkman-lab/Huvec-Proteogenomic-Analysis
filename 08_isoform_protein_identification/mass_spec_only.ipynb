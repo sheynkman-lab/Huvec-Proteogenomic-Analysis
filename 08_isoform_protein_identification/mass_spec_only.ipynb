{
 "cells": [
  {
   "cell_type": "markdown",
   "metadata": {},
   "source": [
    "# Isoform protein identification\n",
    " The purpose of this analysis is to extract information on the number of genes with multiple isoforms.\n",
    "### Mass-spectrometry information only\n",
    "- Number of genes where isoforms were only identified with shared peptides\n",
    "- Number of genes where a single isoform was identified with unique peptides\n",
    "- Number of genes where multiple isoforms were identified with unique peptides\n"
   ]
  },
  {
   "cell_type": "code",
   "execution_count": 1,
   "metadata": {},
   "outputs": [],
   "source": [
    "import pandas as pd\n",
    "from huvec_analysis import data_loader, huvec_config\n",
    "from Bio import SeqIO\n",
    "\n",
    "import os\n",
    "# all statistics go into a directory\n",
    "if not os.path.exists('stats'):\n",
    "    os.makedirs('stats')\n"
   ]
  },
  {
   "cell_type": "code",
   "execution_count": 2,
   "metadata": {},
   "outputs": [],
   "source": [
    "\n",
    "protein_sequences = [] \n",
    "for record in SeqIO.parse(f'{huvec_config.PIPELINE_RESULTS_DIRECTORY}/hybrid_protein_database/huvec_hybrid.fasta', 'fasta'):\n",
    "    acc = record.description.split('|')[1].strip()\n",
    "    gene_name = record.description.split('GN=')[1]\n",
    "    val = {\n",
    "        'accession': acc, \n",
    "        'gene' : gene_name,\n",
    "        'sequence': str(record.seq)\n",
    "    }\n",
    "    protein_sequences.append(val)\n",
    "\n",
    "transcript_abundance = pd.read_table(f'{huvec_config.PIPELINE_RESULTS_DIRECTORY}/hybrid_protein_database/huvec_refined_high_confidence.tsv', usecols=['base_acc', 'CPM'])\n"
   ]
  },
  {
   "cell_type": "code",
   "execution_count": 3,
   "metadata": {},
   "outputs": [
    {
     "name": "stderr",
     "output_type": "stream",
     "text": [
      "/Users/bj8th/opt/anaconda3/envs/lrpg/lib/python3.8/site-packages/IPython/core/interactiveshell.py:3437: DtypeWarning: Columns (11) have mixed types.Specify dtype option on import or set low_memory=False.\n",
      "  exec(code_obj, self.user_global_ns, self.user_ns)\n"
     ]
    }
   ],
   "source": [
    "huvec_peptides = data_loader.read_peptide_file(data_loader.pacbio_hybrid_peptide_file, data_loader.hybrid_gene_map)\n",
    "huvec_peptides['is_high_confidence'] =huvec_peptides['accs'].apply(lambda accs: data_loader.is_high_confidence(accs, data_loader.accs_in_hiconf_space))\n",
    "\n",
    "# huvec_peptides['is_isoform_distinct'] = huvec_peptides['accs'].apply(lambda accs: len(accs) == 1)\n"
   ]
  },
  {
   "cell_type": "code",
   "execution_count": 4,
   "metadata": {},
   "outputs": [],
   "source": [
    "def find_accessions_and_genes(peptide, protein_sequences):\n",
    "    accessions = []\n",
    "    genes = []\n",
    "    if '|' in peptide:\n",
    "        all_peptides = set(peptide.split('|'))\n",
    "        for val in protein_sequences:\n",
    "            for pep in all_peptides:\n",
    "                if pep in val['sequence']:\n",
    "                    accessions.append(val['accession'])\n",
    "                    genes.append(val['gene'])\n",
    "                    continue\n",
    "    else:\n",
    "        for val in protein_sequences:\n",
    "            if peptide in val['sequence']:\n",
    "                accessions.append(val['accession'])\n",
    "                genes.append(val['gene'])\n",
    "    return [accessions, genes]\n",
    "\n",
    "\n",
    "\n",
    "#huvec_peptides = huvec_peptides.head().copy()\n",
    "huvec_peptides['accessions_genes'] = huvec_peptides['Base Sequence'].apply(lambda peptide: find_accessions_and_genes(peptide, protein_sequences))\n",
    "huvec_peptides['accessions'] = huvec_peptides['accessions_genes'].apply(lambda x : x[0])\n",
    "huvec_peptides['genes'] = huvec_peptides['accessions_genes'].apply(lambda x: x[1])\n",
    "huvec_peptides['num_accessions'] = huvec_peptides['accessions'].apply(len)\n",
    "huvec_peptides['is_peptide_uniquely_mapping'] = huvec_peptides['num_accessions'] == 1 \n",
    "\n",
    "huvec_peptides['is_isoform_distinct'] = huvec_peptides['is_peptide_uniquely_mapping']\n",
    "\n"
   ]
  },
  {
   "cell_type": "markdown",
   "metadata": {},
   "source": [
    "### Make peptide table\n",
    "Peptide table contains columns in AllPeptides.tsv\n",
    "- filtered to only include target peptides\n",
    "- filtered to only include peptides with QValue < 0.01\n",
    "- map peptide Base Sequence to fasta database\n"
   ]
  },
  {
   "cell_type": "code",
   "execution_count": 5,
   "metadata": {},
   "outputs": [],
   "source": [
    "huvec_peptides['accessions'] = huvec_peptides['accessions_genes'].apply(lambda x : x[0])\n",
    "huvec_peptides['genes'] = huvec_peptides['accessions_genes'].apply(lambda x: x[1])\n",
    "huvec_peptides['num_accessions'] = huvec_peptides['accessions'].apply(len)\n",
    "huvec_peptides['is_peptide_uniquely_mapping'] = huvec_peptides['num_accessions'] == 1 \n",
    "\n",
    "huvec_peptides['is_isoform_distinct'] = huvec_peptides['is_peptide_uniquely_mapping']\n",
    "huvec_peptides['accessions'] = huvec_peptides['accessions'].apply(lambda x: '|'.join(x))\n",
    "huvec_peptides['genes'] = huvec_peptides['genes'].apply(lambda x: '|'.join(x))\n",
    "huvec_peptides.to_csv('./stats/huvec_peptides_mapped_accessions.tsv', sep='\\t', index=False)"
   ]
  },
  {
   "cell_type": "code",
   "execution_count": 6,
   "metadata": {},
   "outputs": [],
   "source": [
    "\n",
    "\n",
    "\n",
    "huvec_peptides = pd.read_table('./stats/huvec_peptides_mapped_accessions.tsv')\n",
    "huvec_peptides['accessions'] = huvec_peptides['accessions'].apply(lambda x: str(x).split('|'))\n",
    "huvec_peptides['genes'] = huvec_peptides['genes'].apply(lambda x: str(x).split('|'))\n",
    "\n",
    "huvec_peptides['accessions_genes'] = huvec_peptides.apply(lambda row: [row['accessions'], row['genes']] ,axis=1)\n",
    "huvec_peptides['num_accessions'] = huvec_peptides['accessions'].apply(len)\n",
    "huvec_peptides['is_peptide_uniquely_mapping'] = huvec_peptides['num_accessions'] == 1 \n",
    "\n",
    "huvec_peptides['is_isoform_distinct'] = huvec_peptides['is_peptide_uniquely_mapping']\n",
    "\n"
   ]
  },
  {
   "cell_type": "code",
   "execution_count": 7,
   "metadata": {},
   "outputs": [],
   "source": [
    "huvec_peptides = pd.read_table('./stats/huvec_peptides_mapped_accessions.tsv')\n",
    "huvec_peptides['accessions'] = huvec_peptides['accessions'].apply(lambda x: str(x).split('|'))\n",
    "huvec_peptides['genes'] = huvec_peptides['genes'].apply(lambda x: str(x).split('|'))\n",
    "\n",
    "huvec_peptides['accessions_genes'] = huvec_peptides.apply(lambda row: [row['accessions'], row['genes']] ,axis=1)\n",
    "\n"
   ]
  },
  {
   "cell_type": "markdown",
   "metadata": {},
   "source": [
    "### Make isoform table\n",
    "The isoform table contains information of the unique and shared peptides identified through mass-spectrometry for each isoform. Also included is the transcript abundance for PacBio isoforms."
   ]
  },
  {
   "cell_type": "code",
   "execution_count": 8,
   "metadata": {},
   "outputs": [],
   "source": [
    "\n",
    "huvec_peptides['num_isoform_multimap'] = huvec_peptides['accessions'].apply(lambda x: [len(x)] * len(x))\n",
    "huvec_peptides['Sequence'] = huvec_peptides['Base Sequence']\n",
    "exploded = huvec_peptides.set_index(['Sequence'])[['accessions', 'genes', 'num_isoform_multimap']].apply(pd.Series.explode).reset_index()\n",
    "isoform_unique_peptides = exploded[exploded['num_isoform_multimap'] == 1].groupby(['accessions', 'genes'])['Sequence'].apply(list).reset_index()\n",
    "isoform_unique_peptides.rename(columns = {'Sequence' : 'unique_peptides'}, inplace=True)\n",
    "isoform_shared_peptides = exploded[exploded['num_isoform_multimap'] > 1].groupby(['accessions', 'genes'])['Sequence'].apply(list).reset_index()\n",
    "isoform_shared_peptides.rename(columns = {'Sequence' : 'shared_peptides'}, inplace=True)\n",
    "\n",
    "huvec_isoforms = isoform_unique_peptides.merge(isoform_shared_peptides, how = 'outer', on = ['accessions','genes'])\n",
    "huvec_isoforms['is_confirmed_ms'] = ~huvec_isoforms['unique_peptides'].isna()\n",
    "huvec_isoforms.rename(columns={'accessions' : 'accession', 'genes': 'gene'}, inplace=True)\n",
    "huvec_isoforms['unique peptides'] = huvec_isoforms['unique_peptides'].apply(lambda x: '|'.join(x) if type(x) is list else '')\n",
    "huvec_isoforms['shared peptides'] = huvec_isoforms['shared_peptides'].apply(lambda x: '|'.join(x) if type(x) is list else '')\n",
    "huvec_isoforms = huvec_isoforms.merge(transcript_abundance[['base_acc', 'CPM']], left_on='accession', right_on='base_acc', how = 'left')\n",
    "\n",
    "huvec_isoforms.drop(columns=['unique_peptides', 'shared_peptides', 'base_acc'], inplace=True)\n",
    "huvec_isoforms.to_csv('./stats/huvec_isoforms_with_found_peptides.tsv', sep='\\t', index=False)"
   ]
  },
  {
   "cell_type": "markdown",
   "metadata": {},
   "source": [
    "### Make gene table\n",
    "The gene table contains information on isoforms confirmed with mass spectrometry as well as isoforms that only contain shared peptides."
   ]
  },
  {
   "cell_type": "code",
   "execution_count": 9,
   "metadata": {},
   "outputs": [],
   "source": [
    "confirmed_isoforms = huvec_isoforms[huvec_isoforms['is_confirmed_ms']][['accession', 'gene']]\n",
    "confirmed_gene_isoforms = confirmed_isoforms.groupby('gene')['accession'].apply(list).reset_index(name = 'isoforms_with_unique_peptides')\n",
    "confirmed_gene_isoforms['number_of_isoforms_with_unique_peptides'] = confirmed_gene_isoforms['isoforms_with_unique_peptides'].apply(len)\n",
    "confirmed_gene_isoforms['isoforms_with_unique_peptides'] = confirmed_gene_isoforms['isoforms_with_unique_peptides'].apply(lambda x: '|'.join(x))\n",
    "\n",
    "shared_isoforms = huvec_isoforms[~huvec_isoforms['is_confirmed_ms']][['accession', 'gene']]\n",
    "shared_gene_isoforms = shared_isoforms.groupby('gene')['accession'].apply(list).reset_index(name = 'isoforms_with_only_shared_peptides')\n",
    "shared_gene_isoforms['number_of_isoforms_with_shared_only_peptides'] = shared_gene_isoforms['isoforms_with_only_shared_peptides'].apply(len)\n",
    "shared_gene_isoforms['isoforms_with_only_shared_peptides'] = shared_gene_isoforms['isoforms_with_only_shared_peptides'].apply(lambda x: '|'.join(x))\n",
    "\n",
    "\n",
    "huvec_genes = pd.merge(confirmed_gene_isoforms, shared_gene_isoforms, on='gene', how = 'outer')\n",
    "huvec_genes['isoforms_with_unique_peptides'].fillna('', inplace=True)\n",
    "huvec_genes['isoforms_with_only_shared_peptides'].fillna('', inplace=True)\n",
    "huvec_genes['number_of_isoforms_with_unique_peptides'].fillna(0, inplace=True)\n",
    "huvec_genes['number_of_isoforms_with_shared_only_peptides'].fillna(0, inplace=True)\n",
    "huvec_genes = huvec_genes.astype({\"number_of_isoforms_with_unique_peptides\":'int', \"number_of_isoforms_with_shared_only_peptides\":'int'}) \n",
    "isoforms_in_database = pd.DataFrame(protein_sequences)\n",
    "genes_database_sizes = isoforms_in_database.groupby('gene').size().reset_index(name='number_isoforms_in_database')\n",
    "huvec_genes = huvec_genes.merge(genes_database_sizes, on = 'gene', how = 'left' )\n",
    "huvec_genes.to_csv('./stats/huvec_genes_found_in_mass_spec.tsv', sep='\\t', index=False)\n"
   ]
  },
  {
   "cell_type": "markdown",
   "metadata": {},
   "source": [
    "### Statistics on genes based on isoform specific peptide evidence"
   ]
  },
  {
   "cell_type": "code",
   "execution_count": 10,
   "metadata": {},
   "outputs": [
    {
     "name": "stdout",
     "output_type": "stream",
     "text": [
      "Number of genes found through mass spec\n",
      "10444\n"
     ]
    }
   ],
   "source": [
    "print(\"Number of genes found through mass spec\")\n",
    "print(len(huvec_genes))\n"
   ]
  },
  {
   "cell_type": "code",
   "execution_count": 11,
   "metadata": {},
   "outputs": [
    {
     "name": "stdout",
     "output_type": "stream",
     "text": [
      "All genes: PB high confidence + Gencode\n",
      "The number of genes where there are no unique peptides mapping to any isoform\n",
      "5993\n"
     ]
    }
   ],
   "source": [
    "print('All genes: PB high confidence + Gencode')\n",
    "print('The number of genes where there are no unique peptides mapping to any isoform')\n",
    "print(len(huvec_genes[huvec_genes['isoforms_with_unique_peptides'] == '']))\n"
   ]
  },
  {
   "cell_type": "code",
   "execution_count": 12,
   "metadata": {},
   "outputs": [
    {
     "name": "stdout",
     "output_type": "stream",
     "text": [
      "Number of genes with at least one unique isoform\n",
      "4451\n",
      "Number of genes with confirmed isoforms where only one isoform is in database\n",
      "1748\n",
      "Number of genes with unique isoforms where  multiple isoforms are in the database\n",
      "2703\n"
     ]
    }
   ],
   "source": [
    "print(\"Number of genes with at least one unique isoform\")\n",
    "print(len(\n",
    "    huvec_genes[\n",
    "        (huvec_genes['number_of_isoforms_with_unique_peptides'] > 0)]\n",
    "    ))\n",
    "print(\"Number of genes with confirmed isoforms where only one isoform is in database\")\n",
    "print(len(\n",
    "    huvec_genes[\n",
    "        (huvec_genes['number_of_isoforms_with_unique_peptides'] > 0) &\n",
    "        (huvec_genes['number_isoforms_in_database'] == 1)]\n",
    "    ))\n",
    "print(\"Number of genes with unique isoforms where  multiple isoforms are in the database\")\n",
    "print(len(\n",
    "    huvec_genes[\n",
    "        (huvec_genes['number_of_isoforms_with_unique_peptides'] > 0) &\n",
    "        (huvec_genes['number_isoforms_in_database']  > 1)]\n",
    "    ))\n",
    "\n"
   ]
  },
  {
   "cell_type": "code",
   "execution_count": 13,
   "metadata": {},
   "outputs": [
    {
     "name": "stdout",
     "output_type": "stream",
     "text": [
      "Breakdown of number of isoforms confirmed per gene\n"
     ]
    },
    {
     "data": {
      "text/html": [
       "<div>\n",
       "<style scoped>\n",
       "    .dataframe tbody tr th:only-of-type {\n",
       "        vertical-align: middle;\n",
       "    }\n",
       "\n",
       "    .dataframe tbody tr th {\n",
       "        vertical-align: top;\n",
       "    }\n",
       "\n",
       "    .dataframe thead th {\n",
       "        text-align: right;\n",
       "    }\n",
       "</style>\n",
       "<table border=\"1\" class=\"dataframe\">\n",
       "  <thead>\n",
       "    <tr style=\"text-align: right;\">\n",
       "      <th></th>\n",
       "      <th>number_of_isoforms_with_unique_peptides</th>\n",
       "      <th>number_of_genes</th>\n",
       "    </tr>\n",
       "  </thead>\n",
       "  <tbody>\n",
       "    <tr>\n",
       "      <th>0</th>\n",
       "      <td>0</td>\n",
       "      <td>5993</td>\n",
       "    </tr>\n",
       "    <tr>\n",
       "      <th>1</th>\n",
       "      <td>1</td>\n",
       "      <td>4345</td>\n",
       "    </tr>\n",
       "    <tr>\n",
       "      <th>2</th>\n",
       "      <td>2</td>\n",
       "      <td>97</td>\n",
       "    </tr>\n",
       "    <tr>\n",
       "      <th>3</th>\n",
       "      <td>3</td>\n",
       "      <td>8</td>\n",
       "    </tr>\n",
       "    <tr>\n",
       "      <th>4</th>\n",
       "      <td>7</td>\n",
       "      <td>1</td>\n",
       "    </tr>\n",
       "  </tbody>\n",
       "</table>\n",
       "</div>"
      ],
      "text/plain": [
       "   number_of_isoforms_with_unique_peptides  number_of_genes\n",
       "0                                        0             5993\n",
       "1                                        1             4345\n",
       "2                                        2               97\n",
       "3                                        3                8\n",
       "4                                        7                1"
      ]
     },
     "execution_count": 13,
     "metadata": {},
     "output_type": "execute_result"
    }
   ],
   "source": [
    "print(\"Breakdown of number of isoforms confirmed per gene\")\n",
    "huvec_genes.groupby('number_of_isoforms_with_unique_peptides').size().reset_index(name='number_of_genes')"
   ]
  },
  {
   "cell_type": "code",
   "execution_count": null,
   "metadata": {},
   "outputs": [],
   "source": []
  }
 ],
 "metadata": {
  "interpreter": {
   "hash": "2f40891b4156b07d6f7078c8cafe72a6146e3c2223ae724d19ed7912498cb5b1"
  },
  "kernelspec": {
   "display_name": "Python 3.8.8 ('lrpg')",
   "language": "python",
   "name": "python3"
  },
  "language_info": {
   "codemirror_mode": {
    "name": "ipython",
    "version": 3
   },
   "file_extension": ".py",
   "mimetype": "text/x-python",
   "name": "python",
   "nbconvert_exporter": "python",
   "pygments_lexer": "ipython3",
   "version": "3.8.8"
  },
  "orig_nbformat": 4
 },
 "nbformat": 4,
 "nbformat_minor": 2
}
