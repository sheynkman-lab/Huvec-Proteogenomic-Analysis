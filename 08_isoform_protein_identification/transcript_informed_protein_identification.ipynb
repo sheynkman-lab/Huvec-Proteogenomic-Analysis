{
 "cells": [
  {
   "cell_type": "markdown",
   "metadata": {},
   "source": [
    "### Long-read evidenced isoform\n",
    "\n",
    "How many genes have an isoform confirmed with mass-spectrometry (unique peptide found for an isoform)\n",
    "and at least 1 more isoform confirmed through transcript abunddance and shared peptides\n",
    "\n",
    "Transcript abundance > 25 CPM"
   ]
  },
  {
   "cell_type": "code",
   "execution_count": 1,
   "metadata": {},
   "outputs": [],
   "source": [
    "import pandas as pd\n",
    "\n",
    "import os\n",
    "# all statistics go into a directory\n",
    "if not os.path.exists('stats'):\n",
    "    os.makedirs('stats')\n"
   ]
  },
  {
   "cell_type": "code",
   "execution_count": 2,
   "metadata": {},
   "outputs": [],
   "source": [
    "huvec_isoforms = pd.read_table('./stats/huvec_isoforms_with_found_peptides.tsv')\n",
    "cpm_cutoff = 25\n",
    "\n",
    "def is_confirmed_through_transcript_abundance(row, cpm_cutoff):\n",
    "    return not row['is_confirmed_ms'] and row['CPM'] >= cpm_cutoff\n",
    "\n",
    "\n",
    "huvec_isoforms['is_confirmed_through_transcript_abundance'] = huvec_isoforms.apply(lambda row: is_confirmed_through_transcript_abundance(row, cpm_cutoff), axis = 1)\n",
    "huvec_isoforms.to_csv('./stats/huvec_transcript_confirmed_isoforms.tsv', sep='\\t', index=False)\n"
   ]
  },
  {
   "cell_type": "markdown",
   "metadata": {},
   "source": [
    "## Generate gene table\n",
    "\n",
    "The gene table captures the breakdown of isoform confirmation \n",
    "- confirmed through mass spec : isoform has a unique peptide\n",
    "- confirmed through transcript abundance: not confirmed through mass spec, but has at least 25 CPM and has shared peptides\n",
    "- not confirmed: isoform has only shared peptides and has less than 25 CPM\n"
   ]
  },
  {
   "cell_type": "code",
   "execution_count": 3,
   "metadata": {},
   "outputs": [],
   "source": [
    "\n",
    "\n",
    "msconfirm = huvec_isoforms[huvec_isoforms['is_confirmed_ms']]\n",
    "msconfirm_gene = msconfirm.groupby('gene')['accession'].apply(list).reset_index(name='isoforms_confirmed_through_mass_spec')\n",
    "msconfirm_gene['number_isoforms_confirmed_through_mass_spec'] = msconfirm_gene['isoforms_confirmed_through_mass_spec'].apply(len)\n",
    "msconfirm_gene['isoforms_confirmed_through_mass_spec'] = msconfirm_gene['isoforms_confirmed_through_mass_spec'].apply(lambda x: '|'.join(x))\n",
    "\n",
    "tconfirm = huvec_isoforms[huvec_isoforms['is_confirmed_through_transcript_abundance']]\n",
    "tconfirm_gene = tconfirm.groupby('gene')['accession'].apply(list).reset_index(name='isoforms_confirmed_through_transcript_abundance')\n",
    "tconfirm_gene['number_isoforms_confirmed_through_transcript_abundance'] = tconfirm_gene['isoforms_confirmed_through_transcript_abundance'].apply(len)\n",
    "tconfirm_gene['isoforms_confirmed_through_transcript_abundance'] = tconfirm_gene['isoforms_confirmed_through_transcript_abundance'].apply(lambda x: '|'.join(x))\n",
    "\n",
    "not_confirmed = huvec_isoforms[(~huvec_isoforms['is_confirmed_ms']) & (~huvec_isoforms['is_confirmed_through_transcript_abundance'])]\n",
    "not_confirmed_gene = not_confirmed.groupby('gene')['accession'].apply(list).reset_index(name='isoforms_not_confirmed')\n",
    "not_confirmed_gene['number_isoforms_not_confirmed'] = not_confirmed_gene['isoforms_not_confirmed'].apply(len)\n",
    "not_confirmed_gene['isoforms_not_confirmed'] = not_confirmed_gene['isoforms_not_confirmed'].apply(lambda x: '|'.join(x))\n",
    "\n",
    "huvec_gene = (\n",
    "    msconfirm_gene\n",
    "        .merge(tconfirm_gene, on = 'gene', how ='outer')\n",
    "        .merge(not_confirmed_gene, on = 'gene', how = 'outer')\n",
    ")\n",
    "\n",
    "huvec_gene['isoforms_confirmed_through_mass_spec'].fillna('', inplace=True)\n",
    "huvec_gene['isoforms_confirmed_through_transcript_abundance'].fillna('', inplace=True)\n",
    "huvec_gene['isoforms_not_confirmed'].fillna('', inplace=True)\n",
    "\n",
    "huvec_gene['number_isoforms_confirmed_through_mass_spec'].fillna(0, inplace=True)\n",
    "huvec_gene['number_isoforms_confirmed_through_transcript_abundance'].fillna(0, inplace=True)\n",
    "huvec_gene['number_isoforms_not_confirmed'].fillna(0, inplace=True)\n",
    "huvec_gene = huvec_gene.astype({\n",
    "    \"number_isoforms_confirmed_through_mass_spec\":'int', \n",
    "    \"number_isoforms_confirmed_through_transcript_abundance\":'int',\n",
    "    \"number_isoforms_not_confirmed\" : 'int'}) \n",
    "\n",
    "huvec_gene['has_isoforms_confirmed_mass_spec'] = huvec_gene['number_isoforms_confirmed_through_mass_spec'] > 0\n",
    "huvec_gene['has_isoforms_confirmed_transcript_abundance'] = huvec_gene['number_isoforms_confirmed_through_transcript_abundance'] > 0\n",
    "\n",
    "huvec_gene.to_csv('./stats/huvec_transcript_confirmed_genes.tsv', sep='\\t', index=False)\n"
   ]
  },
  {
   "cell_type": "markdown",
   "metadata": {},
   "source": [
    "#### Breakdown of how many genes have isoforms confirmed through mass spec, transcript abundance, and not confirmed"
   ]
  },
  {
   "cell_type": "code",
   "execution_count": 4,
   "metadata": {},
   "outputs": [
    {
     "data": {
      "text/plain": [
       "has_isoforms_confirmed_mass_spec  has_isoforms_confirmed_transcript_abundance\n",
       "False                             False                                          3713\n",
       "                                  True                                           2280\n",
       "True                              False                                          4271\n",
       "                                  True                                            180\n",
       "dtype: int64"
      ]
     },
     "execution_count": 4,
     "metadata": {},
     "output_type": "execute_result"
    }
   ],
   "source": [
    "huvec_gene.groupby(['has_isoforms_confirmed_mass_spec', 'has_isoforms_confirmed_transcript_abundance']).size()"
   ]
  },
  {
   "cell_type": "markdown",
   "metadata": {},
   "source": [
    "#### Breakdown of how many additional isoforms are confirmed through transcript abundance, given that at least one isoform was confirmed through mass-spec\n"
   ]
  },
  {
   "cell_type": "code",
   "execution_count": 5,
   "metadata": {},
   "outputs": [
    {
     "data": {
      "text/html": [
       "<div>\n",
       "<style scoped>\n",
       "    .dataframe tbody tr th:only-of-type {\n",
       "        vertical-align: middle;\n",
       "    }\n",
       "\n",
       "    .dataframe tbody tr th {\n",
       "        vertical-align: top;\n",
       "    }\n",
       "\n",
       "    .dataframe thead th {\n",
       "        text-align: right;\n",
       "    }\n",
       "</style>\n",
       "<table border=\"1\" class=\"dataframe\">\n",
       "  <thead>\n",
       "    <tr style=\"text-align: right;\">\n",
       "      <th></th>\n",
       "      <th>number_isoforms_confirmed_through_transcript_abundance</th>\n",
       "      <th>number_of_genes</th>\n",
       "    </tr>\n",
       "  </thead>\n",
       "  <tbody>\n",
       "    <tr>\n",
       "      <th>0</th>\n",
       "      <td>1</td>\n",
       "      <td>151</td>\n",
       "    </tr>\n",
       "    <tr>\n",
       "      <th>1</th>\n",
       "      <td>2</td>\n",
       "      <td>20</td>\n",
       "    </tr>\n",
       "    <tr>\n",
       "      <th>2</th>\n",
       "      <td>3</td>\n",
       "      <td>7</td>\n",
       "    </tr>\n",
       "    <tr>\n",
       "      <th>3</th>\n",
       "      <td>4</td>\n",
       "      <td>2</td>\n",
       "    </tr>\n",
       "  </tbody>\n",
       "</table>\n",
       "</div>"
      ],
      "text/plain": [
       "   number_isoforms_confirmed_through_transcript_abundance  number_of_genes\n",
       "0                                                  1                   151\n",
       "1                                                  2                    20\n",
       "2                                                  3                     7\n",
       "3                                                  4                     2"
      ]
     },
     "execution_count": 5,
     "metadata": {},
     "output_type": "execute_result"
    }
   ],
   "source": [
    "has_ms_has_transcript = huvec_gene[\n",
    "    (huvec_gene['has_isoforms_confirmed_mass_spec' ]) & \n",
    "    (huvec_gene['has_isoforms_confirmed_transcript_abundance'])\n",
    "]\n",
    "has_ms_has_transcript.groupby(['number_isoforms_confirmed_through_transcript_abundance']).size().reset_index(name = 'number_of_genes')"
   ]
  },
  {
   "cell_type": "markdown",
   "metadata": {},
   "source": [
    "### Isoforms with only shared peptides confirmed with long-read info\n",
    "How many genes have only shared peptides, and thus no confirmed isoforms through mass-specgrometry\n",
    "but have at least 1 isofrom confirmed through combination of shared peptides and transcript abundance\n",
    "\n",
    "Transcript abundance > 25 CPM"
   ]
  },
  {
   "cell_type": "code",
   "execution_count": 6,
   "metadata": {},
   "outputs": [
    {
     "data": {
      "text/html": [
       "<div>\n",
       "<style scoped>\n",
       "    .dataframe tbody tr th:only-of-type {\n",
       "        vertical-align: middle;\n",
       "    }\n",
       "\n",
       "    .dataframe tbody tr th {\n",
       "        vertical-align: top;\n",
       "    }\n",
       "\n",
       "    .dataframe thead th {\n",
       "        text-align: right;\n",
       "    }\n",
       "</style>\n",
       "<table border=\"1\" class=\"dataframe\">\n",
       "  <thead>\n",
       "    <tr style=\"text-align: right;\">\n",
       "      <th></th>\n",
       "      <th>number_isoforms_confirmed_through_transcript_abundance</th>\n",
       "      <th>number_of_genes</th>\n",
       "    </tr>\n",
       "  </thead>\n",
       "  <tbody>\n",
       "    <tr>\n",
       "      <th>0</th>\n",
       "      <td>1</td>\n",
       "      <td>2033</td>\n",
       "    </tr>\n",
       "    <tr>\n",
       "      <th>1</th>\n",
       "      <td>2</td>\n",
       "      <td>202</td>\n",
       "    </tr>\n",
       "    <tr>\n",
       "      <th>2</th>\n",
       "      <td>3</td>\n",
       "      <td>30</td>\n",
       "    </tr>\n",
       "    <tr>\n",
       "      <th>3</th>\n",
       "      <td>4</td>\n",
       "      <td>11</td>\n",
       "    </tr>\n",
       "    <tr>\n",
       "      <th>4</th>\n",
       "      <td>5</td>\n",
       "      <td>3</td>\n",
       "    </tr>\n",
       "    <tr>\n",
       "      <th>5</th>\n",
       "      <td>8</td>\n",
       "      <td>1</td>\n",
       "    </tr>\n",
       "  </tbody>\n",
       "</table>\n",
       "</div>"
      ],
      "text/plain": [
       "   number_isoforms_confirmed_through_transcript_abundance  number_of_genes\n",
       "0                                                  1                  2033\n",
       "1                                                  2                   202\n",
       "2                                                  3                    30\n",
       "3                                                  4                    11\n",
       "4                                                  5                     3\n",
       "5                                                  8                     1"
      ]
     },
     "execution_count": 6,
     "metadata": {},
     "output_type": "execute_result"
    }
   ],
   "source": [
    "no_ms_has_transcript = huvec_gene[\n",
    "    (~huvec_gene['has_isoforms_confirmed_mass_spec' ]) & \n",
    "    (huvec_gene['has_isoforms_confirmed_transcript_abundance'])\n",
    "]\n",
    "no_ms_has_transcript.groupby(['number_isoforms_confirmed_through_transcript_abundance']).size().reset_index(name='number_of_genes')"
   ]
  },
  {
   "cell_type": "code",
   "execution_count": null,
   "metadata": {},
   "outputs": [],
   "source": []
  }
 ],
 "metadata": {
  "interpreter": {
   "hash": "2f40891b4156b07d6f7078c8cafe72a6146e3c2223ae724d19ed7912498cb5b1"
  },
  "kernelspec": {
   "display_name": "Python 3.8.8 ('lrpg')",
   "language": "python",
   "name": "python3"
  },
  "language_info": {
   "codemirror_mode": {
    "name": "ipython",
    "version": 3
   },
   "file_extension": ".py",
   "mimetype": "text/x-python",
   "name": "python",
   "nbconvert_exporter": "python",
   "pygments_lexer": "ipython3",
   "version": "3.8.8"
  },
  "orig_nbformat": 4
 },
 "nbformat": 4,
 "nbformat_minor": 2
}
