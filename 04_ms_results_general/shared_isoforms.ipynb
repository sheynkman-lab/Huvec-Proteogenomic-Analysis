{
 "cells": [
  {
   "cell_type": "markdown",
   "metadata": {},
   "source": [
    "# Unique and Shared Isoforms\n",
    "Extracts information of the number of unique and shared isoforms found within the sample, then saves analysis as tables.\n"
   ]
  },
  {
   "cell_type": "code",
   "execution_count": 1,
   "metadata": {},
   "outputs": [],
   "source": [
    "\n",
    "\n",
    "import os\n",
    "from re import sub\n",
    "\n",
    "\n",
    "from huvec_analysis import huvec_config, data_loader\n",
    "import pandas as pd \n",
    "import matplotlib.pyplot as plt \n",
    "import os \n",
    "import matplotlib\n",
    "matplotlib.rc('font', **huvec_config.font)\n",
    "\n",
    "# all plots go into a directory\n",
    "if not os.path.exists('plot'):\n",
    "    os.makedirs('plot')\n",
    "\n",
    "# all statistics go into a directory\n",
    "if not os.path.exists('stats'):\n",
    "    os.makedirs('stats')\n"
   ]
  },
  {
   "cell_type": "code",
   "execution_count": 2,
   "metadata": {},
   "outputs": [],
   "source": [
    "\n",
    "# read in the paths to the sqanti data \n",
    "sqanti_info_path = '../00_pre_analysis/sqanti_info/sqanti_info.tsv'\n",
    "fasta_file = f'{huvec_config.PIPELINE_RESULTS_DIRECTORY}/hybrid_protein_database/huvec_hybrid.fasta'\n",
    "pacbio_protein_grps_path = '../00_pre_analysis/metamorpheus_table/AllProteinGroups.PacBioHybrid.tsv'\n",
    "pacbio_peps_path = f'{huvec_config.PIPELINE_RESULTS_DIRECTORY}/metamorpheus/pacbio/hybrid/search_results/Task1SearchTask/AllPeptides.huvec.hybrid.psmtsv'\n",
    "pacbio_peps_filtered_path = '../00_pre_analysis/metamorpheus_table/AllPeptides.PacBioHybrid.tsv'\n",
    "gencode_pr_grps_path = f'{huvec_config.PIPELINE_RESULTS_DIRECTORY}/metamorpheus/gencode/search_results/Task1SearchTask/AllQuantifiedProteinGroups.Gencode.tsv'\n",
    "human_ec_gene_path = f'{huvec_config.REFERENCE_DIRECTORY}/human_ec_genes_from_karen.txt'\n",
    "#read in the files \n",
    "sqanti_info = pd.read_table(sqanti_info_path)\n",
    "pacbio_pr_grps = pd.read_table(pacbio_protein_grps_path, index_col= False)\n",
    "pacbio_pr_grps = pacbio_pr_grps.dropna(subset=['Gene'])\n",
    "# read in the GENCODE protein groups\n",
    "gencode_pr_grps = pd.read_table(gencode_pr_grps_path, index_col= False)\n",
    "gencode_pr_grps = gencode_pr_grps.dropna(subset=['Gene'])\n",
    "human_ec_genes = pd.read_table(human_ec_gene_path, header = None)[0].to_list()\n"
   ]
  },
  {
   "cell_type": "code",
   "execution_count": 3,
   "metadata": {},
   "outputs": [],
   "source": [
    "# expand the gene column and split on the |\n",
    "# pacbio_pr_grps = pacbio_pr_grps.head()\n",
    "pacbio_pr_grps['gene_list'] = pacbio_pr_grps['Gene'].str.split(\"|\")\n",
    "pacbio_pr_grps['gene_set'] = pacbio_pr_grps['gene_list'].apply(set)\n",
    "\n",
    "# so now drop any columns where there is more than 1 value in the set \n",
    "def has_multiple(group):\n",
    "    return len(group) > 1\n",
    "pacbio_pr_grps['has_mult_isos'] = pacbio_pr_grps['gene_set'].apply(has_multiple)\n",
    "pacbio_pr_grps['has_mult_isos'] = pacbio_pr_grps['has_mult_isos'].astype(int)\n",
    "pacbio_pr_grps['gene_name'] = pacbio_pr_grps['Gene'].str.split('|').str[0]\n",
    "pacbio_pr_grps['ec_priority'] = pacbio_pr_grps['Gene'].isin(human_ec_genes) * 1\n",
    "#pacbio_pr_grps.to_csv('stats/01_shared_iso.csv', index=False)\n"
   ]
  },
  {
   "cell_type": "code",
   "execution_count": 4,
   "metadata": {},
   "outputs": [],
   "source": [
    "\n",
    "# find all the values where has_mult_iso i true \n",
    "#multi_mapping_isos = pacbio_pr_grps[pacbio_pr_grps['has_mult_isos']==True]\n",
    "#multi_mapping_isos.to_csv('stats/shared_iso_is_true')\n",
    "\n",
    "single_gene_pr_grps_pacbio = pacbio_pr_grps[~pacbio_pr_grps['gene_set'].apply(has_multiple)]\n",
    "pacbio_num_genes = single_gene_pr_grps_pacbio.groupby('gene_name').agg(number_of_groups=('Gene', 'count'))\n",
    "\n",
    "# perform the simialar analysis for the gencode protein groups we discovered \n",
    "# so now drop any columns where there is more than 1 value in the set \n",
    "gencode_pr_grps['gene_list'] = gencode_pr_grps['Gene'].str.split(\"|\")\n",
    "gencode_pr_grps['gene_set'] = gencode_pr_grps['gene_list'].apply(set)\n",
    "\n",
    "gencode_pr_grps['has_mult_isos'] = gencode_pr_grps['gene_set'].apply(has_multiple)\n",
    "gencode_pr_grps['has_mult_isos'] = gencode_pr_grps['has_mult_isos'].astype(int)\n",
    "gencode_pr_grps['gene_name'] = gencode_pr_grps['Gene'].str.split('|').str[0]\n",
    "gencode_pr_grps['ec_priority'] = gencode_pr_grps['Gene'].isin(human_ec_genes) * 1\n",
    "\n",
    "single_gene_pr_grps_gencode = gencode_pr_grps[~gencode_pr_grps['gene_set'].apply(has_multiple)]\n",
    "gencode_num_genes = single_gene_pr_grps_gencode.groupby('gene_name').agg(number_of_groups=('Gene', 'count'))\n"
   ]
  },
  {
   "cell_type": "code",
   "execution_count": 5,
   "metadata": {},
   "outputs": [],
   "source": [
    "\n",
    "# find for how many unique peptide found between pb and gc \n",
    "pb_uniq = pacbio_pr_grps[pacbio_pr_grps['Number of Unique Peptides']==1]\n",
    "gc_uniq = gencode_pr_grps[gencode_pr_grps['Number of Unique Peptides'] == 1]\n",
    "\n",
    "# look at the peptides file to find all the columns with 1 accession \n",
    "pacbio_peps_filtered = pd.read_table(pacbio_peps_filtered_path)\n",
    "\n",
    "# find the occurences of | within the protein accession column \n",
    "def read_peps_file(peps_file):\n",
    "    peps_table = pd.read_table(pacbio_peps_filtered_path, sep = '\\t')\n",
    "    sub = '|'\n",
    "    peps_table['unique_isoform'] = peps_table['Protein Accession'].str.find(sub)\n",
    "    gencode_peps_isoform_resolve = peps_table[peps_table['unique_isoform']== -1]\n",
    "    return gencode_peps_isoform_resolve\n",
    "pacbio_peps_filtered = read_peps_file(pacbio_peps_filtered_path)\n",
    "pacbio_peps_filtered.to_csv('stats/test_isoform_resolve.tsv', sep = '\\t')\n",
    "# find for how many have multi mapping accessions (indicating for how many peps are mapping to multiple isos)\n"
   ]
  },
  {
   "cell_type": "code",
   "execution_count": 6,
   "metadata": {},
   "outputs": [
    {
     "data": {
      "text/plain": [
       "4790"
      ]
     },
     "execution_count": 6,
     "metadata": {},
     "output_type": "execute_result"
    }
   ],
   "source": [
    "# read in the pacbio filtered peps \n",
    "pacbio_peps_filtered = pd.read_table(pacbio_peps_filtered_path)\n",
    "pacbio_peps_filtered\n",
    "\n",
    "# find the | substring within the protein accession \n",
    "sub = '|'\n",
    "pacbio_peps_filtered['unique_isoform'] = pacbio_peps_filtered['Protein Accession'].str.find(sub)\n",
    "pacbio_peps_filtered['character_count'] = pacbio_peps_filtered['Protein Accession'].str.count('\\|')\n",
    "pacbio_peps_filtered.to_csv('stats/pacbio_peps_unique_isos.tsv', sep = '\\t')\n",
    "\n",
    "# find how many times the unique_isoform does not equal -1\n",
    "multi_map_isos = pacbio_peps_filtered[pacbio_peps_filtered['unique_isoform']!=-1]\n",
    "len(multi_map_isos)\n",
    "multi_map_isos.gene_name.nunique()\n"
   ]
  },
  {
   "cell_type": "code",
   "execution_count": 7,
   "metadata": {},
   "outputs": [],
   "source": [
    "\n",
    "\n",
    "# find the number of single mapping isos\n",
    "single_map_isos = pacbio_peps_filtered[pacbio_peps_filtered['unique_isoform']==-1]\n",
    "\n",
    "unique_single_isos = single_map_isos.gene_name.unique()\n",
    "unique_single_isos_set = set(unique_single_isos)\n",
    "pacbio_pr_grps = pd.read_table(pacbio_protein_grps_path)\n",
    "\n",
    "# find how many unique peptides that were detected \n",
    "unique_peps = pacbio_pr_grps[pacbio_pr_grps['Number of Unique Peptides']==1]\n",
    "\n"
   ]
  },
  {
   "cell_type": "code",
   "execution_count": 8,
   "metadata": {},
   "outputs": [
    {
     "data": {
      "text/plain": [
       "3975"
      ]
     },
     "execution_count": 8,
     "metadata": {},
     "output_type": "execute_result"
    }
   ],
   "source": [
    "\n",
    "# look at the protein groups file to find the multi-mapping protein accession rows \n",
    "pacbio_pr_grps['unique_isoform'] = pacbio_pr_grps['Protein Accession'].str.find(sub)\n",
    "pacbio_pr_grps['ec_priority'] = pacbio_pr_grps['gene_name'].isin(human_ec_genes) * 1\n",
    "pacbio_pr_grps.to_csv('stats/pacbio_pr_grp.tsv', '\\t')\n",
    "not_unique_pr_grps = pacbio_pr_grps[pacbio_pr_grps['unique_isoform']!=-1]\n",
    "len(not_unique_pr_grps)\n"
   ]
  },
  {
   "cell_type": "code",
   "execution_count": 10,
   "metadata": {},
   "outputs": [
    {
     "name": "stderr",
     "output_type": "stream",
     "text": [
      "<ipython-input-10-6ed7c33d8b0f>:4: SettingWithCopyWarning: \n",
      "A value is trying to be set on a copy of a slice from a DataFrame.\n",
      "Try using .loc[row_indexer,col_indexer] = value instead\n",
      "\n",
      "See the caveats in the documentation: https://pandas.pydata.org/pandas-docs/stable/user_guide/indexing.html#returning-a-view-versus-a-copy\n",
      "  single_map_isos['peptide_is_in_common'] = single_map_isos['Base Sequence'].isin(pacbio_pr_grps['Unique Peptides'])\n"
     ]
    }
   ],
   "source": [
    "# table of the peptides found in allpeps but not in AllProteingrps\n",
    "common = single_map_isos['Base Sequence'].isin(pacbio_pr_grps['Unique Peptides'])\n",
    "\n",
    "single_map_isos['peptide_is_in_common'] = single_map_isos['Base Sequence'].isin(pacbio_pr_grps['Unique Peptides'])\n",
    "common_peptide_to_both = single_map_isos[single_map_isos['peptide_is_in_common']==False]\n",
    "common_peptide_to_both.to_csv('stats/common_peptide_to_both_isFalse.tsv', sep = '\\t')\n",
    "\n"
   ]
  },
  {
   "cell_type": "code",
   "execution_count": null,
   "metadata": {},
   "outputs": [],
   "source": []
  }
 ],
 "metadata": {
  "interpreter": {
   "hash": "2f40891b4156b07d6f7078c8cafe72a6146e3c2223ae724d19ed7912498cb5b1"
  },
  "kernelspec": {
   "display_name": "Python 3.8.8 ('lrpg')",
   "language": "python",
   "name": "python3"
  },
  "language_info": {
   "codemirror_mode": {
    "name": "ipython",
    "version": 3
   },
   "file_extension": ".py",
   "mimetype": "text/x-python",
   "name": "python",
   "nbconvert_exporter": "python",
   "pygments_lexer": "ipython3",
   "version": "3.8.8"
  },
  "orig_nbformat": 4
 },
 "nbformat": 4,
 "nbformat_minor": 2
}
