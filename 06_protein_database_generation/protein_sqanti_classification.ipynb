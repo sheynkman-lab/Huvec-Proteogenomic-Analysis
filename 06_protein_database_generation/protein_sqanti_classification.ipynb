{
 "cells": [
  {
   "cell_type": "markdown",
   "metadata": {},
   "source": [
    "# Protein SQANTI Classification\n",
    "\n",
    "Generate statistics on SQANTI classification "
   ]
  },
  {
   "cell_type": "code",
   "execution_count": 1,
   "metadata": {},
   "outputs": [],
   "source": [
    "import os\n",
    "\n",
    "import pandas as pd\n",
    "import os\n",
    "import matplotlib\n",
    "from huvec_analysis import huvec_config\n",
    "\n",
    "matplotlib.rc('font', **huvec_config.font)\n",
    "\n",
    "# all statistics go into a directory\n",
    "if not os.path.exists('stats'):\n",
    "    os.makedirs('stats')"
   ]
  },
  {
   "cell_type": "code",
   "execution_count": 2,
   "metadata": {},
   "outputs": [
    {
     "name": "stdout",
     "output_type": "stream",
     "text": [
      "Number of pacbio transcripts aligned to protein-coding genes: 53863\n",
      "Number of protein-coding genes with a pacbio transcript: 10426\n"
     ]
    }
   ],
   "source": [
    "\n",
    "# file paths to the data \n",
    "sqanti_info_path = '../00_pre_analysis/sqanti_info/sqanti_info.tsv'\n",
    "human_ec_gene_path = f'{huvec_config.REFERENCE_DIRECTORY}/human_ec_genes_from_karen.txt'\n",
    "human_ec_genes = pd.read_table(human_ec_gene_path, header = None)[0].to_list()\n",
    "sqanti_info = pd.read_table(sqanti_info_path)\n",
    "sqanti_info = sqanti_info[sqanti_info['cpm']> 1]\n",
    "\n",
    "###################\n",
    "# MAIN FIGUREs\n",
    "##################\n",
    "with open('stats/01_number_of_protein_coding_genes_w_pacbio_reads.txt', 'w') as ofile: \n",
    "    ofile.write(f'Number of pacbio transcripts aligned to protein-coding genes: {len(sqanti_info)}\\n')\n",
    "    ofile.write(f'Number of protein-coding genes with a pacbio transcript: {len(sqanti_info.gene.unique())}')\n",
    "\n",
    "for line in open('stats/number_of_protein_coding_genes_w_pacbio_reads.txt'):\n",
    "    print(line.strip('\\n'))"
   ]
  },
  {
   "cell_type": "code",
   "execution_count": 3,
   "metadata": {},
   "outputs": [
    {
     "name": "stdout",
     "output_type": "stream",
     "text": [
      "Number of total isoforms: 53863\n",
      "Number of those isoforms that are known (full-splice matches (FSMs): 31668\n",
      "Number of those isoforms that are novel (novel in catalog (NICs): 13746\n",
      "Number of those isoforms that are novel (novel not in catalog (NNCs): 8449\n",
      "Percentage of those isoforms that are known (full-splice matches (FSMs): 0.5879360600040844\n",
      "Percentage of those isoforms that are novel (novel in catalog (NICs): 0.255203015056718\n",
      "Percentage of those isoforms that are novel (novel not in catalog: 0.1568609249391976\n",
      "Percentage of transcripts classified as  novel:0.41206393999591556\n",
      "Percentage of transcripts classified as known: 0.5879360600040844\n",
      "Median CPM for the FSMs: 2.3603986261578846\n",
      "Median CPM for the NICs:1.5258689386576283\n",
      "Median CPM for the NNCs: 1.3240506545760629\n"
     ]
    }
   ],
   "source": [
    "\n",
    "# get the number of sqanti cats\n",
    "fsm = sqanti_info[sqanti_info['cat']=='FSM']\n",
    "nnc = sqanti_info[sqanti_info['cat']=='NNC']\n",
    "nic = sqanti_info[sqanti_info['cat'] == 'NIC']\n",
    "fsm_median = fsm['log2cpm'].median()\n",
    "nic_median = nic['log2cpm'].median()\n",
    "nnc_median = nnc['log2cpm'].median()\n",
    "\n",
    "# Percentage stats for the novelty categories for FSM, NNC, NIC\n",
    "total = len(sqanti_info)\n",
    "fsm_percentage = len(fsm)/total\n",
    "nic_percentage = len(nic)/total\n",
    "nnc_percentage = len(nnc)/total\n",
    "\n",
    "# Output the stats to a file \n",
    "# number of novel isoforms (NNC and NIC)\n",
    "novel_isoforms = len(nnc) + len(nic)\n",
    "\n",
    "# percentage of the novel compared to the known \n",
    "novel_percentage = novel_isoforms/total\n",
    "\n",
    "# Write the percentages for the novelty categories and percents to a text file\n",
    "with open('stats/number_and_percent_sqanti_trans_detected.txt', 'w') as ofile: \n",
    "    ofile.write(f'Number of total isoforms: {total}\\n')\n",
    "    ofile.write(f'Number of those isoforms that are known (full-splice matches (FSMs): {len(fsm)}\\n')\n",
    "    ofile.write(f'Number of those isoforms that are novel (novel in catalog (NICs): {len(nic)}\\n')\n",
    "    ofile.write(f'Number of those isoforms that are novel (novel not in catalog (NNCs): {len(nnc)}\\n')\n",
    "    ofile.write(f'Percentage of those isoforms that are known (full-splice matches (FSMs): {fsm_percentage}\\n')\n",
    "    ofile.write(f'Percentage of those isoforms that are novel (novel in catalog (NICs): {nic_percentage}\\n')\n",
    "    ofile.write(f'Percentage of those isoforms that are novel (novel not in catalog: {nnc_percentage}\\n')\n",
    "    ofile.write(f'Percentage of transcripts classified as  novel:{novel_percentage}\\n')\n",
    "    ofile.write(f'Percentage of transcripts classified as known: {fsm_percentage}\\n')\n",
    "    ofile.write(f'Median CPM for the FSMs: {fsm_median}\\n')\n",
    "    ofile.write(f'Median CPM for the NICs:{nic_median}\\n')\n",
    "    ofile.write(f'Median CPM for the NNCs: {nnc_median}\\n')\n",
    "\n",
    "# output these numbers to a txt file \n",
    "for line in open('stats/number_and_percent_sqanti_trans_detected.txt'):\n",
    "    print(line.strip('\\n'))"
   ]
  }
 ],
 "metadata": {
  "interpreter": {
   "hash": "2f40891b4156b07d6f7078c8cafe72a6146e3c2223ae724d19ed7912498cb5b1"
  },
  "kernelspec": {
   "display_name": "Python 3.8.8 ('lrpg')",
   "language": "python",
   "name": "python3"
  },
  "language_info": {
   "codemirror_mode": {
    "name": "ipython",
    "version": 3
   },
   "file_extension": ".py",
   "mimetype": "text/x-python",
   "name": "python",
   "nbconvert_exporter": "python",
   "pygments_lexer": "ipython3",
   "version": "3.8.8"
  },
  "orig_nbformat": 4
 },
 "nbformat": 4,
 "nbformat_minor": 2
}
