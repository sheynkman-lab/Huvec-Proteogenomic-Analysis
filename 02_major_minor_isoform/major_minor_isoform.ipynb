{
 "cells": [
  {
   "cell_type": "markdown",
   "metadata": {},
   "source": [
    "# Major / minor isoform comparision\n",
    "\n",
    "Major isoform : the most abundant isoform of a gene\n",
    "\n",
    "Minor isoforms : isoforms of a gene that are not the most abundant\n",
    "\n"
   ]
  },
  {
   "cell_type": "code",
   "execution_count": 1,
   "metadata": {},
   "outputs": [],
   "source": [
    "\n",
    "import os\n",
    "\n",
    "import pandas as pd \n",
    "import numpy as np\n",
    "import matplotlib.pyplot as plt\n",
    "import matplotlib\n",
    "import dataframe_image as dfi\n",
    "from huvec_analysis import huvec_config # parameters for plotting\n",
    "\n",
    "# All of the plots will go into the plots folder\n",
    "plot_dir = 'plot'\n",
    "if not os.path.exists(plot_dir):\n",
    "    os.makedirs(plot_dir)\n",
    "# All of the stats will go into a directory\n",
    "stats_dir = 'stats'\n",
    "if not os.path.exists(stats_dir):\n",
    "    os.makedirs(stats_dir)\n",
    "\n",
    "matplotlib.rc('font', **huvec_config.font)\n"
   ]
  },
  {
   "cell_type": "code",
   "execution_count": 2,
   "metadata": {},
   "outputs": [],
   "source": [
    "\n",
    "# file path to sqanti info\n",
    "sqanti_info_path = '../00_pre_analysis/sqanti_info/sqanti_info.tsv'\n",
    "\n",
    "# Read in HUVEC isoform information (SQANTI) - pre-processed reference table \n",
    "sqanti_info = pd.read_table(sqanti_info_path)\n",
    "sqanti_info = sqanti_info[sqanti_info['cpm']> 1]\n"
   ]
  },
  {
   "cell_type": "markdown",
   "metadata": {},
   "source": [
    "## Major / Minor isoform analysis"
   ]
  },
  {
   "cell_type": "code",
   "execution_count": 3,
   "metadata": {},
   "outputs": [],
   "source": [
    "\n",
    "def mask_first(x):\n",
    "    result = np.ones_like(x)\n",
    "    result[0] = 0\n",
    "    return result\n",
    "# get the major isoform \n",
    "def get_major_isoform(sqanti_info):\n",
    "    major_isoform = sqanti_info \\\n",
    "        .sort_values(by = 'cpm', ascending = False) \\\n",
    "        .groupby(['gene'], as_index = False).first()\n",
    "    return major_isoform\n",
    "\n",
    "# get the minor isoforms \n",
    "def get_minor_isoforms(sqanti_info):\n",
    "    mask = sqanti_info \\\n",
    "        .sort_values(by = 'cpm', ascending = False) \\\n",
    "        .groupby(['gene'])['gene'] \\\n",
    "            .transform(mask_first).astype(bool)\n",
    "    minor_isoforms = sqanti_info.loc[mask]\n",
    "    return minor_isoforms\n",
    "\n",
    "# for cpm threshold of 1 or higher\n",
    "cpm_threshold = 1\n",
    "over_N_cpm = sqanti_info[sqanti_info['cpm'] >= cpm_threshold]\n",
    "# only perform the analysis for which there are multiple isoform genes \n",
    "over_N_cpm = over_N_cpm.groupby('gene').filter(lambda x: len(x) >1)\n",
    "# get the cpm fraction of each isoform by gene \n",
    "gene_cpms = over_N_cpm.groupby('gene')['cpm'].sum().reset_index()\n",
    "gene_cpms.columns = ['gene', 'total_gene_cpm']\n",
    "over_N_cpm = over_N_cpm.merge(gene_cpms, on ='gene', how='inner')\n",
    "over_N_cpm['cpm_fraction'] = over_N_cpm['cpm']/over_N_cpm['total_gene_cpm']\n",
    "major_isoform = get_major_isoform(over_N_cpm)\n",
    "minor_isoforms = get_minor_isoforms(over_N_cpm)\n",
    "# output the major and minor isofoem tables \n",
    "major_isoform.to_csv('stats/major_isoforms.csv')\n",
    "minor_isoforms.to_csv('stats/minor_isoforms.csv')\n",
    "# get the genes only expressing one isoform\n",
    "\n",
    "# Find how many of the major isoforms are novel \n",
    "major_isform_novel = major_isoform[(major_isoform['cat']=='NIC') | (major_isoform['cat']=='NNC')]\n",
    "\n",
    "# merge the major and minor isoforms onto the sqanti table to have a quick intermediate table of this informatio \n",
    "major_isoform['is_major_isoform'] = '1'\n",
    "sqanti_info_merged = pd.merge(left= sqanti_info, right=major_isoform, left_on='pb_acc', right_on= 'pb_acc', how = 'outer')\n",
    "sqanti_info_merged['is_major_isoform'] = sqanti_info_merged['is_major_isoform'].replace(np.nan,0)\n",
    "sqanti_info_merged.to_csv('stats/sqanti_info_major_minor_isos.csv')\n"
   ]
  },
  {
   "cell_type": "code",
   "execution_count": 4,
   "metadata": {},
   "outputs": [],
   "source": [
    "\n",
    "# Plot the minor isoforms abundances\n",
    "def plot_genes_over_cpm_threshold(minor_isoforms): \n",
    "    fractional_abundance_file = 'stats/num_genes_w_minor_isoforms_above_threshold.tsv'\n",
    "    with open(fractional_abundance_file, 'w') as ofile: \n",
    "        for cpm_thresh in np.arange(0, 0.6, 0.1):\n",
    "            num_non_top = len(minor_isoforms[minor_isoforms['cpm_fraction'] > cpm_thresh]['gene'].unique())\n",
    "            ofile.write(f'{cpm_thresh:.1f}\\t{num_non_top}\\n')\n",
    "    # make a table of the minor fractional abundance and count of the isoforms at each farc abundannce threshold \n",
    "    frac = pd.read_table(fractional_abundance_file)\n",
    "    frac.columns = ['Minor isoform fraction', \"Number of transcript isoforms\"]\n",
    "    frac.dfi.export('plot/num_genes_w_minor_isoforms_at_diff_frac_abundance.png')\n",
    "plot_genes_over_cpm_threshold(minor_isoforms)\n"
   ]
  },
  {
   "cell_type": "code",
   "execution_count": 5,
   "metadata": {},
   "outputs": [
    {
     "data": {
      "image/png": "[encoded data removed]",
      "text/plain": [
       "<Figure size 360x288 with 1 Axes>"
      ]
     },
     "metadata": {
      "needs_background": "light"
     },
     "output_type": "display_data"
    },
    {
     "data": {
      "text/plain": [
       "<Figure size 432x288 with 0 Axes>"
      ]
     },
     "metadata": {},
     "output_type": "display_data"
    }
   ],
   "source": [
    "\n",
    "\n",
    "# Plot the major isoform transcriptional abundances \n",
    "def plot_transcriptional_abundances_major_iso(major_isoform): \n",
    "    # make the bins for the histograms \n",
    "    bin_ranges = np.linspace(0, 15) \n",
    "    # major isoform transcriptional abundance distributions \n",
    "    fig, ax = plt.subplots(figsize=(5,4))\n",
    "    major_isoform['log2cpm'] = np.log2(major_isoform['cpm'] + 1)\n",
    "    major_isoform['log2cpm'].hist(bins=bin_ranges, edgecolor = 'black')\n",
    "    ax.grid(False)\n",
    "    plt.xlabel('Transcript abundance for major isoforms\\n$log_2$(CPM+1)')\n",
    "    plt.ylabel(\"Number of transcript isoforms\")\n",
    "    plt.title('Major isoform transcriptional abundances')\n",
    "    plt.savefig('plot/hist_major_isoform_transcriptional_abundances.pdf', bbox_inches = 'tight')\n",
    "    plt.show()\n",
    "    plt.clf()\n",
    "plot_transcriptional_abundances_major_iso(major_isoform)\n"
   ]
  },
  {
   "cell_type": "code",
   "execution_count": 6,
   "metadata": {},
   "outputs": [
    {
     "name": "stderr",
     "output_type": "stream",
     "text": [
      "<ipython-input-6-afd8a78795e6>:7: SettingWithCopyWarning: \n",
      "A value is trying to be set on a copy of a slice from a DataFrame.\n",
      "Try using .loc[row_indexer,col_indexer] = value instead\n",
      "\n",
      "See the caveats in the documentation: https://pandas.pydata.org/pandas-docs/stable/user_guide/indexing.html#returning-a-view-versus-a-copy\n",
      "  minor_isoforms['log2cpm']= np.log2(minor_isoforms['cpm'] + 1)\n"
     ]
    },
    {
     "data": {
      "image/png": "[encoded data removed]",
      "text/plain": [
       "<Figure size 360x288 with 1 Axes>"
      ]
     },
     "metadata": {
      "needs_background": "light"
     },
     "output_type": "display_data"
    },
    {
     "data": {
      "text/plain": [
       "<Figure size 432x288 with 0 Axes>"
      ]
     },
     "metadata": {},
     "output_type": "display_data"
    }
   ],
   "source": [
    "\n",
    "\n",
    "# plot the transcriptional abundances for the minor isoforms \n",
    "def plot_transcriptional_abundances_minor_iso(minor_isoforms): \n",
    "    # make the bins for the hist\n",
    "    bin_ranges = np.linspace(0,15)\n",
    "    for cpm_frac in [0]:\n",
    "        fig, ax = plt.subplots(figsize=(5,4))\n",
    "        minor_isoforms['log2cpm']= np.log2(minor_isoforms['cpm'] + 1)\n",
    "        minor_isoforms[minor_isoforms['cpm_fraction'] > cpm_frac]['log2cpm'].hist(bins=bin_ranges, edgecolor = 'black')\n",
    "        ax.grid(False)\n",
    "        plt.xlabel(\"Transcript abundances for the minor isoforms\")\n",
    "        plt.ylabel('Number of transcripts isoforms')\n",
    "        plt.xlim(0, 13)\n",
    "        plt.title('Minor isoforms\\n(fractional CPM > {})'.format(cpm_frac))\n",
    "        plt.savefig(f'plot/hist_minor_isoforms_abundances_cpm_thresh_{cpm_frac}.pdf', bbox_inches = 'tight')\n",
    "        plt.show()\n",
    "        plt.clf()\n",
    "plot_transcriptional_abundances_minor_iso(minor_isoforms)\n",
    "\n",
    "#%%"
   ]
  }
 ],
 "metadata": {
  "interpreter": {
   "hash": "2f40891b4156b07d6f7078c8cafe72a6146e3c2223ae724d19ed7912498cb5b1"
  },
  "kernelspec": {
   "display_name": "Python 3.8.8 ('lrpg')",
   "language": "python",
   "name": "python3"
  },
  "language_info": {
   "codemirror_mode": {
    "name": "ipython",
    "version": 3
   },
   "file_extension": ".py",
   "mimetype": "text/x-python",
   "name": "python",
   "nbconvert_exporter": "python",
   "pygments_lexer": "ipython3",
   "version": "3.8.8"
  },
  "orig_nbformat": 4
 },
 "nbformat": 4,
 "nbformat_minor": 2
}
