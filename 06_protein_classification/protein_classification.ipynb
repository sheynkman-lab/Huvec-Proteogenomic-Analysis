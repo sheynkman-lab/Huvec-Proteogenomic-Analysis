{
 "cells": [
  {
   "cell_type": "markdown",
   "metadata": {},
   "source": [
    "# Protein classification analysis (SQANTI protein)\n",
    "\n",
    "Generates statistics of abundance and number of isoforms found by protein classification.\n",
    "\n",
    "Plots of number of isoforms found by protein classification.\n"
   ]
  },
  {
   "cell_type": "code",
   "execution_count": 1,
   "metadata": {},
   "outputs": [],
   "source": [
    "from huvec_analysis import huvec_config\n",
    "import pandas as pd \n",
    "import numpy as np\n",
    "import matplotlib.pyplot as plt \n",
    "import os \n",
    "import matplotlib\n",
    "matplotlib.rc('font', **huvec_config.font)\n",
    "\n",
    "# all plots go into a directory\n",
    "if not os.path.exists('plot'):\n",
    "    os.makedirs('plot')\n",
    "\n",
    "# all statistics go into a directory\n",
    "if not os.path.exists('stats'):\n",
    "    os.makedirs('stats')\n"
   ]
  },
  {
   "cell_type": "code",
   "execution_count": 2,
   "metadata": {},
   "outputs": [],
   "source": [
    "\n",
    "unfiltered_database_file = f'{huvec_config.PIPELINE_RESULTS_DIRECTORY}/protein_classification/huvec_unfiltered.protein_classification.tsv' #~46K\n",
    "filtered_database_file = f'{huvec_config.PIPELINE_RESULTS_DIRECTORY}/protein_filter/huvec.classification_filtered.tsv' # ~34K \n",
    "pclassification_file = f'{huvec_config.PIPELINE_RESULTS_DIRECTORY}/protein_classification/huvec_unfiltered.protein_classification.tsv'\n",
    "huvec_gene_file = f'{huvec_config.PIPELINE_RESULTS_DIRECTORY}/protein_classification/huvec_genes.tsv'\n",
    "pclass_all = pd.read_table(pclassification_file)\n",
    "\n",
    "unfiltered_db = pd.read_table(unfiltered_database_file)\n",
    "prots = pd.read_table(filtered_database_file)\n",
    "prots['gene'] = prots['pr_gene']\n",
    "genes = pd.read_table(huvec_gene_file)\n",
    "\n",
    "structural_sizes = prots.groupby('pclass').size()\n",
    "total = len(pclass_all)\n",
    "# total = structural_sizes.sum()\n",
    "structural_percent = structural_sizes / total * 100\n",
    "structural_category_stats = pd.merge(structural_sizes.reset_index(), structural_percent.reset_index(), on = 'pclass')\n",
    "structural_category_stats.columns = ['structural_category', 'N', 'percent']\n"
   ]
  },
  {
   "cell_type": "markdown",
   "metadata": {},
   "source": [
    "### Plot number of isoforms found by protein classification"
   ]
  },
  {
   "cell_type": "code",
   "execution_count": 3,
   "metadata": {},
   "outputs": [
    {
     "data": {
      "image/png": "[encoded data removed]",
      "text/plain": [
       "<Figure size 216x216 with 1 Axes>"
      ]
     },
     "metadata": {
      "needs_background": "light"
     },
     "output_type": "display_data"
    },
    {
     "data": {
      "text/plain": [
       "<Figure size 432x288 with 0 Axes>"
      ]
     },
     "metadata": {},
     "output_type": "display_data"
    }
   ],
   "source": [
    "\n",
    "# output bar plot of sqanti categories\n",
    "fig, ax = plt.subplots(figsize=(3,3))\n",
    "struc_simple= structural_category_stats[structural_category_stats.structural_category.isin(['pFSM','pNIC', 'pNNC'])]\n",
    "colors = []\n",
    "for cat in struc_simple['structural_category']:\n",
    "    colors.append(huvec_config.sqanti_protein_colors[cat])\n",
    "ax.bar(struc_simple.structural_category, struc_simple.N, edgecolor='black', linewidth=1, color=colors, zorder=20)\n",
    "ax.grid(axis='y', zorder=0)\n",
    "ax.set_xlabel('SQANTI protein category')\n",
    "ax.set_ylabel('Number of protein isoforms')\n",
    "plt.savefig('plot/bar_sqanti_cats_all.pdf', bbox_inches='tight')\n",
    "plt.show()\n",
    "plt.clf()\n"
   ]
  },
  {
   "cell_type": "code",
   "execution_count": 4,
   "metadata": {},
   "outputs": [],
   "source": [
    "\n",
    "# output source data\n",
    "struc_simple.columns = ['protein_structural_category', 'N', 'percent']\n",
    "structural_category_stats.to_csv('stats/protein_sqanti_cats_all.tsv', sep='\\t', index=None)\n"
   ]
  },
  {
   "cell_type": "markdown",
   "metadata": {},
   "source": [
    "### Generate statistics of isoforms broken down by protein classification"
   ]
  },
  {
   "cell_type": "code",
   "execution_count": 5,
   "metadata": {},
   "outputs": [
    {
     "name": "stdout",
     "output_type": "stream",
     "text": [
      "Number of total predicted protein isoforms: 46407\n",
      "Number of those predicted proteins that are known (full-splice matches (pFSMs): 16296\n",
      "Number of those predicted proteins that are novel (novel in catalog (pNICs): 5855\n",
      "Number of those predicted proteins that are novel (novel not in catalog (NNCs): 19041\n",
      "Percentage of those predicted protein isoforms that are known (full-splice matches (FSMs): 0.35115392074471524\n",
      "Percentage of those predicted protein isoforms that are novel (novel in catalog (NICs): 0.12616631111685736\n",
      "Percentage of those predicted protein isoforms that are novel (novel not in catalog: 0.4103044799275971\n",
      "Percentage of proteins predicetd as novel:0.5364707910444545\n",
      "Percentage of proteins predicted as known: 0.35115392074471524\n"
     ]
    }
   ],
   "source": [
    "\n",
    "#find the individual numbers of each categorey \n",
    "# for the unfiltered database\n",
    "unfiltered_size = unfiltered_db.groupby('protein_classification_base').size()\n",
    "total = len(unfiltered_db)\n",
    "unfiltered_db_percent = unfiltered_size/ total * 100\n",
    "unfiltered_cats_stats = pd.merge(unfiltered_size.reset_index(), unfiltered_db_percent.reset_index(), on= 'protein_classification_base')\n",
    "unfiltered_cats_stats.columns = ['p_cat', 'N', 'percent']\n",
    "unfiltered_cats_stats.to_csv('stats/unfiltered_db_size.tsv', sep = '\\t', index= None)\n",
    "\n",
    "pFSM = unfiltered_db[unfiltered_db['protein_classification_base'] == 'pFSM']\n",
    "pNIC = unfiltered_db[unfiltered_db['protein_classification_base'] =='pNIC']\n",
    "pNNC = unfiltered_db[unfiltered_db['protein_classification_base'] =='pNNC']\n",
    "pFSM = unfiltered_db[unfiltered_db['protein_classification_base'] =='pFSM']\n",
    "novel_cats = pNIC + pNNC\n",
    "total = len(unfiltered_db)\n",
    "# get the perentages \n",
    "pFSM_percentage = len(pFSM)/total\n",
    "pNIC_percentage = len(pNIC)/total\n",
    "pNNC_percentage = len(pNNC)/total\n",
    "novel_protein_percentage = pNNC_percentage + pNIC_percentage\n",
    "# make an output table of the stats on the unfiltered vs the filtered database \n",
    "with open('stats/number_and_percent_unfiltered_db.txt', 'w') as ofile: \n",
    "    ofile.write(f'Number of total predicted protein isoforms: {total}\\n')\n",
    "    ofile.write(f'Number of those predicted proteins that are known (full-splice matches (pFSMs): {len(pFSM)}\\n')\n",
    "    ofile.write(f'Number of those predicted proteins that are novel (novel in catalog (pNICs): {len(pNIC)}\\n')\n",
    "    ofile.write(f'Number of those predicted proteins that are novel (novel not in catalog (NNCs): {len(pNNC)}\\n')\n",
    "    ofile.write(f'Percentage of those predicted protein isoforms that are known (full-splice matches (FSMs): {pFSM_percentage}\\n')\n",
    "    ofile.write(f'Percentage of those predicted protein isoforms that are novel (novel in catalog (NICs): {pNIC_percentage}\\n')\n",
    "    ofile.write(f'Percentage of those predicted protein isoforms that are novel (novel not in catalog: {pNNC_percentage}\\n')\n",
    "    ofile.write(f'Percentage of proteins predicetd as novel:{novel_protein_percentage}\\n')\n",
    "    ofile.write(f'Percentage of proteins predicted as known: {pFSM_percentage}\\n')\n",
    "\n",
    "for line in open('stats/number_and_percent_unfiltered_db.txt'):\n",
    "    print(line.strip('\\n'))"
   ]
  }
 ],
 "metadata": {
  "interpreter": {
   "hash": "2f40891b4156b07d6f7078c8cafe72a6146e3c2223ae724d19ed7912498cb5b1"
  },
  "kernelspec": {
   "display_name": "Python 3.8.8 ('lrpg')",
   "language": "python",
   "name": "python3"
  },
  "language_info": {
   "codemirror_mode": {
    "name": "ipython",
    "version": 3
   },
   "file_extension": ".py",
   "mimetype": "text/x-python",
   "name": "python",
   "nbconvert_exporter": "python",
   "pygments_lexer": "ipython3",
   "version": "3.8.8"
  },
  "orig_nbformat": 4
 },
 "nbformat": 4,
 "nbformat_minor": 2
}
