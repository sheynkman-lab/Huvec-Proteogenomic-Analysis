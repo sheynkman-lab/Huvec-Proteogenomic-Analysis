{
 "cells": [
  {
   "cell_type": "markdown",
   "metadata": {},
   "source": [
    "# Novel Peptides\n",
    "\n",
    "Novel peptides found in Mass spectrometry, but are not found in the GENCODE or UNIPROT databases\n",
    "\n",
    "This analysis pulls the spectra info for what scans map to the novel peptide"
   ]
  },
  {
   "cell_type": "code",
   "execution_count": 32,
   "metadata": {},
   "outputs": [],
   "source": [
    "from huvec_analysis import huvec_config\n",
    "import pandas as pd\n",
    "import os\n",
    "\n",
    "novel_peptides_ifile = f'{huvec_config.PIPELINE_RESULTS_DIRECTORY}/novel_peptides/huvec_hybrid.pacbio_novel_peptides.tsv'\n",
    "peptides_ifile = f'{huvec_config.PIPELINE_RESULTS_DIRECTORY}/metamorpheus/pacbio/hybrid/search_results/Task1SearchTask/AllPeptides.huvec.hybrid.psmtsv'\n",
    "abundance_ifile = f'{huvec_config.PIPELINE_RESULTS_DIRECTORY}/hybrid_protein_database/huvec_refined_high_confidence.tsv'\n",
    "human_ec_gene_ifile = f'{huvec_config.REFERENCE_DIRECTORY}/human_ec_genes_from_karen.txt'\n",
    "if not os.path.exists('./stats'):\n",
    "    os.mkdir('./stats')"
   ]
  },
  {
   "cell_type": "code",
   "execution_count": 33,
   "metadata": {},
   "outputs": [],
   "source": [
    "novel_peptides = pd.read_table(novel_peptides_ifile)\n",
    "peptides = pd.read_table(peptides_ifile)\n",
    "abundance = pd.read_table(abundance_ifile)\n",
    "human_EC_genes =pd.read_table(human_ec_gene_ifile, header=None)[0].to_list() \n",
    "\n"
   ]
  },
  {
   "cell_type": "code",
   "execution_count": 27,
   "metadata": {},
   "outputs": [],
   "source": [
    "novel_peptides = novel_peptides.merge(peptides, left_on='seq', right_on='Base Sequence', how = 'left')\n",
    "novel_peptides = novel_peptides.merge(abundance, left_on='acc', right_on='base_acc', how = 'left')\n",
    "novel_peptides['is_ec_gene'] = novel_peptides['pr_gene'].isin(human_EC_genes) * 1\n"
   ]
  },
  {
   "cell_type": "code",
   "execution_count": 34,
   "metadata": {},
   "outputs": [],
   "source": [
    "novel_peptides.to_csv('./stats/pacbio_hybrid_novel_peptides.tsv', sep='\\t', index=False)\n",
    "\n"
   ]
  }
 ],
 "metadata": {
  "interpreter": {
   "hash": "2f40891b4156b07d6f7078c8cafe72a6146e3c2223ae724d19ed7912498cb5b1"
  },
  "kernelspec": {
   "display_name": "Python 3.8.8 ('lrpg')",
   "language": "python",
   "name": "python3"
  },
  "language_info": {
   "codemirror_mode": {
    "name": "ipython",
    "version": 3
   },
   "file_extension": ".py",
   "mimetype": "text/x-python",
   "name": "python",
   "nbconvert_exporter": "python",
   "pygments_lexer": "ipython3",
   "version": "3.8.8"
  },
  "orig_nbformat": 4
 },
 "nbformat": 4,
 "nbformat_minor": 2
}
