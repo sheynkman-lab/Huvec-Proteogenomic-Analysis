{
 "cells": [
  {
   "cell_type": "markdown",
   "metadata": {},
   "source": [
    "# Protein Classification analysis\n",
    "\n",
    "find the different categories of sqanti porotein comprising the database\n"
   ]
  },
  {
   "cell_type": "code",
   "execution_count": 3,
   "metadata": {},
   "outputs": [],
   "source": [
    "from huvec_analysis import huvec_config\n",
    "import pandas as pd \n",
    "import numpy as np\n",
    "import matplotlib.pyplot as plt \n",
    "import os \n",
    "import matplotlib\n",
    "matplotlib.rc('font', **huvec_config.font)\n",
    "\n",
    "# all plots go into a directory\n",
    "if not os.path.exists('plot'):\n",
    "    os.makedirs('plot')\n",
    "\n",
    "# all statistics go into a directory\n",
    "if not os.path.exists('stats'):\n",
    "    os.makedirs('stats')\n"
   ]
  },
  {
   "cell_type": "code",
   "execution_count": 4,
   "metadata": {},
   "outputs": [],
   "source": [
    "\n",
    "unfiltered_database_file = f'{huvec_config.PIPELINE_RESULTS_DIRECTORY}/protein_classification/huvec_unfiltered.protein_classification.tsv' #~46K\n",
    "filtered_database_file = f'{huvec_config.PIPELINE_RESULTS_DIRECTORY}/protein_filter/huvec.classification_filtered.tsv' # ~34K \n",
    "pclassification_file = f'{huvec_config.PIPELINE_RESULTS_DIRECTORY}/protein_classification/huvec_unfiltered.protein_classification.tsv'\n",
    "huvec_gene_file = f'{huvec_config.PIPELINE_RESULTS_DIRECTORY}/protein_classification/huvec_genes.tsv'\n",
    "pclass_all = pd.read_table(pclassification_file)\n",
    "\n",
    "unfiltered_db = pd.read_table(unfiltered_database_file)\n",
    "prots = pd.read_table(filtered_database_file)\n",
    "prots['gene'] = prots['pr_gene']\n",
    "genes = pd.read_table(huvec_gene_file)\n",
    "\n",
    "structural_sizes = prots.groupby('pclass').size()\n",
    "total = len(pclass_all)\n",
    "# total = structural_sizes.sum()\n",
    "structural_percent = structural_sizes / total * 100\n",
    "structural_category_stats = pd.merge(structural_sizes.reset_index(), structural_percent.reset_index(), on = 'pclass')\n",
    "structural_category_stats.columns = ['structural_category', 'N', 'percent']\n"
   ]
  },
  {
   "cell_type": "code",
   "execution_count": 5,
   "metadata": {},
   "outputs": [
    {
     "data": {
      "image/png": "[encoded data removed]",
      "text/plain": [
       "<Figure size 216x216 with 1 Axes>"
      ]
     },
     "metadata": {
      "needs_background": "light"
     },
     "output_type": "display_data"
    },
    {
     "data": {
      "text/plain": [
       "<Figure size 432x288 with 0 Axes>"
      ]
     },
     "metadata": {},
     "output_type": "display_data"
    }
   ],
   "source": [
    "\n",
    "# output bar plot of sqanti categories\n",
    "fig, ax = plt.subplots(figsize=(3,3))\n",
    "struc_simple= structural_category_stats[structural_category_stats.structural_category.isin(['pFSM','pNIC', 'pNNC'])]\n",
    "colors = []\n",
    "for cat in struc_simple['structural_category']:\n",
    "    colors.append(huvec_config.sqanti_protein_colors[cat])\n",
    "ax.bar(struc_simple.structural_category, struc_simple.N, edgecolor='black', linewidth=1, color=colors, zorder=20)\n",
    "ax.grid(axis='y', zorder=0)\n",
    "ax.set_xlabel('SQANTI protein category')\n",
    "ax.set_ylabel('Number of protein isoforms')\n",
    "plt.savefig('plot/01_bar_sqanti_cats_all.pdf', bbox_inches='tight')\n",
    "plt.show()\n",
    "plt.clf()\n"
   ]
  },
  {
   "cell_type": "code",
   "execution_count": 6,
   "metadata": {},
   "outputs": [],
   "source": [
    "\n",
    "# output source data\n",
    "struc_simple.columns = ['protein_structural_category', 'N', 'percent']\n",
    "structural_category_stats.to_csv('stats/01_protein_sqanti_cats_all.tsv', sep='\\t', index=None)\n"
   ]
  },
  {
   "cell_type": "code",
   "execution_count": 7,
   "metadata": {},
   "outputs": [
    {
     "name": "stdout",
     "output_type": "stream",
     "text": [
      "Number of total predicted protein isoforms: 46407\n",
      "Number of those predicted proteins that are known (full-splice matches (pFSMs): 16296\n",
      "Number of those predicted proteins that are novel (novel in catalog (pNICs): 5855\n",
      "Number of those predicted proteins that are novel (novel not in catalog (NNCs): 19041\n",
      "Percentage of those predicted protein isoforms that are known (full-splice matches (FSMs): 0.35115392074471524\n",
      "Percentage of those predicted protein isoforms that are novel (novel in catalog (NICs): 0.12616631111685736\n",
      "Percentage of those predicted protein isoforms that are novel (novel not in catalog: 0.4103044799275971\n",
      "Percentage of proteins predicetd as novel:0.5364707910444545\n",
      "Percentage of proteins predicted as known: 0.35115392074471524\n"
     ]
    }
   ],
   "source": [
    "\n",
    "#find the individual numbers of each categorey \n",
    "# for the unfiltered database\n",
    "unfiltered_size = unfiltered_db.groupby('protein_classification_base').size()\n",
    "total = len(unfiltered_db)\n",
    "unfiltered_db_percent = unfiltered_size/ total * 100\n",
    "unfiltered_cats_stats = pd.merge(unfiltered_size.reset_index(), unfiltered_db_percent.reset_index(), on= 'protein_classification_base')\n",
    "unfiltered_cats_stats.columns = ['p_cat', 'N', 'percent']\n",
    "unfiltered_cats_stats.to_csv('stats/01_unfiltered_db_size.tsv', sep = '\\t', index= None)\n",
    "\n",
    "pFSM = unfiltered_db[unfiltered_db['protein_classification_base'] == 'pFSM']\n",
    "pNIC = unfiltered_db[unfiltered_db['protein_classification_base'] =='pNIC']\n",
    "pNNC = unfiltered_db[unfiltered_db['protein_classification_base'] =='pNNC']\n",
    "pFSM = unfiltered_db[unfiltered_db['protein_classification_base'] =='pFSM']\n",
    "novel_cats = pNIC + pNNC\n",
    "total = len(unfiltered_db)\n",
    "# get the perentages \n",
    "pFSM_percentage = len(pFSM)/total\n",
    "pNIC_percentage = len(pNIC)/total\n",
    "pNNC_percentage = len(pNNC)/total\n",
    "novel_protein_percentage = pNNC_percentage + pNIC_percentage\n",
    "# make an output table of the stats on the unfiltered vs the filtered database \n",
    "with open('stats/01_number_and_percent_unfiltered_db.txt', 'w') as ofile: \n",
    "    ofile.write(f'Number of total predicted protein isoforms: {total}\\n')\n",
    "    ofile.write(f'Number of those predicted proteins that are known (full-splice matches (pFSMs): {len(pFSM)}\\n')\n",
    "    ofile.write(f'Number of those predicted proteins that are novel (novel in catalog (pNICs): {len(pNIC)}\\n')\n",
    "    ofile.write(f'Number of those predicted proteins that are novel (novel not in catalog (NNCs): {len(pNNC)}\\n')\n",
    "    ofile.write(f'Percentage of those predicted protein isoforms that are known (full-splice matches (FSMs): {pFSM_percentage}\\n')\n",
    "    ofile.write(f'Percentage of those predicted protein isoforms that are novel (novel in catalog (NICs): {pNIC_percentage}\\n')\n",
    "    ofile.write(f'Percentage of those predicted protein isoforms that are novel (novel not in catalog: {pNNC_percentage}\\n')\n",
    "    ofile.write(f'Percentage of proteins predicetd as novel:{novel_protein_percentage}\\n')\n",
    "    ofile.write(f'Percentage of proteins predicted as known: {pFSM_percentage}\\n')\n",
    "\n",
    "for line in open('stats/01_number_and_percent_unfiltered_db.txt'):\n",
    "    print(line.strip('\\n'))"
   ]
  },
  {
   "cell_type": "markdown",
   "metadata": {},
   "source": [
    "\n",
    "### distribution of the num of protein isoforms per gene for the filtered dataset \n",
    "\n",
    "bar plot showing the number of genes that contain all known protein isoforms \n",
    "\n",
    "data is based on the filtered database \n"
   ]
  },
  {
   "cell_type": "code",
   "execution_count": null,
   "metadata": {},
   "outputs": [],
   "source": [
    "\n",
    "filtered_database_file = f'{huvec_config.PIPELINE_RESULTS_DIRECTORY}/protein_filter/huvec.classification_filtered.tsv' # ~45K prot\n",
    "\n",
    "# plot the distribution of protein number per gene, for filtered protein database\n",
    "db_type = 'filtered'\n",
    "db_file = filtered_database_file\n",
    "db = pd.read_table(db_file)\n",
    "db['gene'] = db['pr_gene']\n",
    "# only consider entries at 1 CPM or higher\n",
    "db = db[~db['gene'].str.startswith('novel')]\n",
    "genes = db.groupby('pr_gene').size().reset_index()\n",
    "genes.columns = ['gene', 'num_transcripts']\n",
    "num_iso = genes.groupby('num_transcripts').size().reset_index(name='count')\n",
    "fig = plt.subplots(figsize=(6,3))\n",
    "plt.bar(num_iso['num_transcripts'][0:20], num_iso['count'][0:20], edgecolor='black')\n",
    "plt.xticks(range(1, 21, 2))\n",
    "plt.xlabel('Number of protein isoforms per gene')\n",
    "plt.ylabel('Number of genes')\n",
    "plt.savefig(f'plot/02_hist_num_prot_iso_per_gene_{db_type}.pdf', bbox_inches='tight')\n",
    "plt.show()\n",
    "plt.clf()\n"
   ]
  },
  {
   "cell_type": "code",
   "execution_count": 9,
   "metadata": {},
   "outputs": [],
   "source": [
    "\n",
    "num_iso.to_csv(f'stats/02_hist_num_prot_iso_per_gene_{db_type}.tsv', sep='\\t',index=False)\n",
    "# nice to see the similar distribution to that of the transcript data since we are building the databse from this \n"
   ]
  },
  {
   "cell_type": "code",
   "execution_count": 10,
   "metadata": {},
   "outputs": [
    {
     "data": {
      "text/plain": [
       "34531"
      ]
     },
     "execution_count": 10,
     "metadata": {},
     "output_type": "execute_result"
    }
   ],
   "source": [
    "\n",
    "filtered_database_file = f'{huvec_config.PIPELINE_RESULTS_DIRECTORY}/protein_filter/huvec.classification_filtered.tsv' # ~45K prot\n",
    "\n",
    "prots = pd.read_table(filtered_database_file)\n",
    "prots['gene'] = prots['pr_gene']\n",
    "unique_genes_filtereddb = prots['pr_gene'].nunique()\n",
    "len(prots)\n"
   ]
  },
  {
   "cell_type": "code",
   "execution_count": 11,
   "metadata": {},
   "outputs": [
    {
     "data": {
      "image/png": "[encoded data removed]",
      "text/plain": [
       "<Figure size 252x288 with 1 Axes>"
      ]
     },
     "metadata": {
      "needs_background": "light"
     },
     "output_type": "display_data"
    },
    {
     "data": {
      "text/plain": [
       "<Figure size 432x288 with 0 Axes>"
      ]
     },
     "metadata": {},
     "output_type": "display_data"
    }
   ],
   "source": [
    "\n",
    "\n",
    "# plot distribution of genes with all known isoforms\n",
    "def all_proteins_are_known_for_gene(row):\n",
    "    if set(row['pclass'].to_list()) == set(['pFSM']):\n",
    "        return True\n",
    "    return False\n",
    "prots_novel_status = prots.groupby('gene').apply(all_proteins_are_known_for_gene).reset_index()\n",
    "prots_novel_status.columns = ['gene', 'all_protein_isoforms_known']\n",
    "prots_novel_status = prots_novel_status.groupby('all_protein_isoforms_known').size().reset_index()\n",
    "prots_novel_status.columns = ['All known', 'Count']\n",
    "prots_novel_status = prots_novel_status.sort_values('All known', ascending=False)\n",
    "prots_novel_status.plot.bar(x='All known', y='Count', rot=0, edgecolor='black', legend=False, figsize=(3.5,4), zorder=10)\n",
    "plt.xlabel('All protein isoforms detected \\nfor gene are in the reference', labelpad=10)\n",
    "plt.xticks([0, 1], ['Yes', 'No'])\n",
    "plt.ylabel('Number of genes')\n",
    "# plt.grid(zorder=0, axis='y')\n",
    "plt.savefig('plot/03_bar_gene_and_prot_iso_novelty_cat.pdf', bbox_inches='tight')\n",
    "plt.show()\n",
    "plt.clf()\n",
    "# output source data table\n",
    "prots_novel_status.to_csv('stats/03_bar_gene_and_prot_iso_novelty_cat.tsv', sep='\\t', index=None)\n",
    "# showing coverage of the novelty even thru the created dataabse \n",
    "#%%"
   ]
  }
 ],
 "metadata": {
  "interpreter": {
   "hash": "2f40891b4156b07d6f7078c8cafe72a6146e3c2223ae724d19ed7912498cb5b1"
  },
  "kernelspec": {
   "display_name": "Python 3.8.8 ('lrpg')",
   "language": "python",
   "name": "python3"
  },
  "language_info": {
   "codemirror_mode": {
    "name": "ipython",
    "version": 3
   },
   "file_extension": ".py",
   "mimetype": "text/x-python",
   "name": "python",
   "nbconvert_exporter": "python",
   "pygments_lexer": "ipython3",
   "version": "3.8.8"
  },
  "orig_nbformat": 4
 },
 "nbformat": 4,
 "nbformat_minor": 2
}
